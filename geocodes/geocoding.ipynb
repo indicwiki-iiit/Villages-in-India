{
 "cells": [
  {
   "cell_type": "code",
   "execution_count": null,
   "metadata": {},
   "outputs": [],
   "source": []
  },
  {
   "cell_type": "code",
   "execution_count": null,
   "metadata": {},
   "outputs": [],
   "source": [
    "import pandas as pd\n",
    "import numpy as np\n",
    "import requests"
   ]
  },
  {
   "cell_type": "code",
   "execution_count": null,
   "metadata": {},
   "outputs": [],
   "source": [
    "data = pd.read_csv('<path_to_data_file>')"
   ]
  },
  {
   "cell_type": "code",
   "execution_count": null,
   "metadata": {},
   "outputs": [],
   "source": [
    "URL = \"https://geocode-api.arcgis.com/arcgis/rest/services/World/GeocodeServer/findAddressCandidates\""
   ]
  },
  {
   "cell_type": "code",
   "execution_count": null,
   "metadata": {},
   "outputs": [],
   "source": [
    "for i in range(len(data)):\n",
    "    address = data.loc[i, 'Name'] + \",\" + data.loc[i, 'Sub District Name'] + \",\" + data.loc[i, 'District Name'] + \",\" + data.loc[i, 'State Name'] + \",\" + \"INDIA\"\n",
    "    PARAMS = {'f': 'pjson', 'address': address, 'token': '<paste_the_token_from_your_ArcGIS_dashboard>'}\n",
    "    response = requests.get(url = URL, params = PARAMS)\n",
    "\n",
    "    response_json = response.json()\n",
    "\n",
    "    if len(response_json['candidates']) > 0:\n",
    "      geo_coords = response_json['candidates'][0]['location']\n",
    "\n",
    "      data.loc[i, 'Latitude'] = geo_coords['y']\n",
    "      data.loc[i, 'Longitude'] = geo_coords['x']\n",
    "        \n",
    "    print(str(i) + \" => \" + str(geo_coords))\n"
   ]
  },
  {
   "cell_type": "code",
   "execution_count": null,
   "metadata": {},
   "outputs": [],
   "source": [
    "data.to_csv('<save_file_path>', index = False)"
   ]
  }
 ],
 "metadata": {
  "kernelspec": {
   "display_name": "Python 3.9.13 64-bit (windows store)",
   "language": "python",
   "name": "python3"
  },
  "language_info": {
   "name": "python",
   "version": "3.9.13"
  },
  "orig_nbformat": 4,
  "vscode": {
   "interpreter": {
    "hash": "f74eec0e85527e47e49ba00d9fd4381b2c1d66bcd05bdbcab2a56c62f2dbbf66"
   }
  }
 },
 "nbformat": 4,
 "nbformat_minor": 2
}
