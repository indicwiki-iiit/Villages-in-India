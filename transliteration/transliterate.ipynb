{
 "cells": [
  {
   "cell_type": "code",
   "execution_count": null,
   "metadata": {},
   "outputs": [],
   "source": [
    "import numpy as np\n",
    "import pandas as pd"
   ]
  },
  {
   "cell_type": "code",
   "execution_count": null,
   "metadata": {},
   "outputs": [],
   "source": [
    "data = pd.read_csv('<path_to_data_file>')"
   ]
  },
  {
   "cell_type": "markdown",
   "metadata": {},
   "source": [
    "### Google transliteration API"
   ]
  },
  {
   "cell_type": "code",
   "execution_count": null,
   "metadata": {},
   "outputs": [],
   "source": [
    "from google.transliteration import transliterate_word"
   ]
  },
  {
   "cell_type": "code",
   "execution_count": null,
   "metadata": {},
   "outputs": [],
   "source": [
    "for i in range(0, len(data)):\n",
    "  if type(data.loc[i, '<col_to_be_transliterated>']) != np.float:\n",
    "    pred = transliterate_word(data.loc[i, '<col_to_be_transliterated>'], lang_code = 'te')\n",
    "    if len(pred) > 0:\n",
    "      data.loc[i, '<transliterated_col>'] = pred[0]\n",
    "      print(str(i) + ' => ' +  data.loc[i, '<transliterated_col>'])"
   ]
  },
  {
   "cell_type": "markdown",
   "metadata": {},
   "source": [
    "### Deeptranslit"
   ]
  },
  {
   "cell_type": "code",
   "execution_count": null,
   "metadata": {},
   "outputs": [],
   "source": [
    "from deeptranslit import DeepTranslit"
   ]
  },
  {
   "cell_type": "code",
   "execution_count": null,
   "metadata": {},
   "outputs": [],
   "source": [
    "transliterator = DeepTranslit('telugu')"
   ]
  },
  {
   "cell_type": "code",
   "execution_count": null,
   "metadata": {},
   "outputs": [],
   "source": [
    "batch_size = 300\n",
    "i = 0\n",
    "while(i < len(data)):\n",
    "\n",
    "  lst = []\n",
    "  for j in range(i, i + batch_size):\n",
    "    if type(data.loc[j, '<col_to_be_transliterated>']) != np.float:\n",
    "      lst.append(data.loc[j, '<col_to_be_transliterated>'])\n",
    "\n",
    "  new_lst = transliterator.transliterate(lst)\n",
    "  k = 0\n",
    "\n",
    "  for j in range(i, i + batch_size):\n",
    "    if type(data.loc[j, '<col_to_be_transliterated>']) != np.float:\n",
    "      data.loc[j, '<transliterated_col>'] = new_lst[k][0]['pred']\n",
    "      k += 1\n",
    "\n",
    "      print(str(j) + ' => ' +  data.loc[j, '<transliterated_col>'])\n",
    "  \n",
    "  i += batch_size"
   ]
  },
  {
   "cell_type": "code",
   "execution_count": null,
   "metadata": {},
   "outputs": [],
   "source": [
    "data.to_csv('<save_file_path>', index = False)"
   ]
  }
 ],
 "metadata": {
  "kernelspec": {
   "display_name": "Python 3.9.13 64-bit (windows store)",
   "language": "python",
   "name": "python3"
  },
  "language_info": {
   "name": "python",
   "version": "3.9.13"
  },
  "orig_nbformat": 4,
  "vscode": {
   "interpreter": {
    "hash": "f74eec0e85527e47e49ba00d9fd4381b2c1d66bcd05bdbcab2a56c62f2dbbf66"
   }
  }
 },
 "nbformat": 4,
 "nbformat_minor": 2
}
