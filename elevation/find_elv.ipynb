{
 "cells": [
  {
   "cell_type": "code",
   "execution_count": null,
   "metadata": {},
   "outputs": [],
   "source": [
    "import pandas as pd\n",
    "import numpy as np\n",
    "import requests\n",
    "import time"
   ]
  },
  {
   "cell_type": "code",
   "execution_count": null,
   "metadata": {},
   "outputs": [],
   "source": [
    "data = pd.read_csv('<path_to_data_file>')"
   ]
  },
  {
   "cell_type": "code",
   "execution_count": null,
   "metadata": {},
   "outputs": [],
   "source": [
    "URL = 'https://elevation-api.io/api/elevation'"
   ]
  },
  {
   "cell_type": "markdown",
   "metadata": {},
   "source": [
    "## Using elevation-api.io"
   ]
  },
  {
   "cell_type": "markdown",
   "metadata": {},
   "source": [
    "### With batch "
   ]
  },
  {
   "cell_type": "code",
   "execution_count": null,
   "metadata": {},
   "outputs": [],
   "source": [
    "counter = 0\n",
    "i = 0\n",
    "while(i < len(data)):\n",
    "    geocodes = \"\"\n",
    "    for j in range(i, i + 10):\n",
    "      if j != i + 9:\n",
    "        geocodes += \"(\" + str(data.loc[j, 'Latitude']) + \",\" + str(data.loc[j, 'Longitude']) + \"),\"\n",
    "      else:\n",
    "        geocodes += \"(\" + str(data.loc[j, 'Latitude']) + \",\" + str(data.loc[j, 'Longitude']) + \")\"\n",
    "    PARAMS = {'points': geocodes, 'key': \"<paste_your_API_key_here>\"}\n",
    "   \n",
    "    response = requests.get(url = URL, params = PARAMS)\n",
    "    response_json = response.json()\n",
    "    k = 0\n",
    "   \n",
    "    if len(response_json['elevations']) > 0:\n",
    "        for j in range(i, i + 10):\n",
    "          data.loc[j, 'Elevation'] = response_json['elevations'][k]['elevation']\n",
    "          print(str(j) + \" => \" + str(data.loc[j, 'Elevation']))\n",
    "          k += 1\n",
    "  \n",
    "    counter += 1\n",
    "\n",
    "    if counter == 30:\n",
    "      counter = 0\n",
    "      time.sleep(1)\n",
    "\n",
    "    i += 10"
   ]
  },
  {
   "cell_type": "markdown",
   "metadata": {},
   "source": [
    "### Without batch"
   ]
  },
  {
   "cell_type": "code",
   "execution_count": null,
   "metadata": {},
   "outputs": [],
   "source": [
    "counter = 0\n",
    "for i in range(len(data)):\n",
    "    geocodes = \"(\" + str(data.loc[i, 'Latitude']) + \",\" + str(data.loc[i, 'Longitude']) + \")\"\n",
    "    PARAMS = {'points': geocodes, 'key': \"<paste_your_API_key_here>\"}\n",
    "   \n",
    "    response = requests.get(url = URL, params = PARAMS)\n",
    "    response_json = response.json()\n",
    "\n",
    "    if len(response_json['elevations']) > 0:\n",
    "      data.loc[i, 'Elevation'] = response_json['elevations'][0]['elevation']\n",
    "        \n",
    "    print(str(i) + \" => \" + str(data.loc[i, 'Elevation']))\n",
    "    counter += 1\n",
    "    if counter == 30:\n",
    "      counter = 0\n",
    "      time.sleep(1)"
   ]
  },
  {
   "cell_type": "code",
   "execution_count": null,
   "metadata": {},
   "outputs": [],
   "source": [
    "data.to_csv('<save_file_path>', index = False)"
   ]
  }
 ],
 "metadata": {
  "kernelspec": {
   "display_name": "Python 3.9.13 64-bit (windows store)",
   "language": "python",
   "name": "python3"
  },
  "language_info": {
   "name": "python",
   "version": "3.9.13"
  },
  "orig_nbformat": 4,
  "vscode": {
   "interpreter": {
    "hash": "f74eec0e85527e47e49ba00d9fd4381b2c1d66bcd05bdbcab2a56c62f2dbbf66"
   }
  }
 },
 "nbformat": 4,
 "nbformat_minor": 2
}
