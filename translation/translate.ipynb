{
 "cells": [
  {
   "cell_type": "code",
   "execution_count": null,
   "metadata": {},
   "outputs": [],
   "source": [
    "import numpy as np\n",
    "import pandas as pd"
   ]
  },
  {
   "cell_type": "code",
   "execution_count": null,
   "metadata": {},
   "outputs": [],
   "source": [
    "data = pd.read_csv('<path_to_data_file>')"
   ]
  },
  {
   "cell_type": "code",
   "execution_count": null,
   "metadata": {},
   "outputs": [],
   "source": [
    "import requests, uuid, json\n",
    "\n",
    "def get_translation (body):\n",
    "  # Add your subscription key, endpoint and location\n",
    "  subscription_key = \"<paste_your_subscription_key>\"\n",
    "  endpoint = \"https://api.cognitive.microsofttranslator.com\"\n",
    "  location = \"<paste_your_location>\"\n",
    "\n",
    "  path = '/translate'\n",
    "  constructed_url = endpoint + path\n",
    "\n",
    "  params = {\n",
    "      'api-version': '3.0',\n",
    "      'from': 'en',\n",
    "      'to': ['te']\n",
    "  }\n",
    "\n",
    "  headers = {\n",
    "      'Ocp-Apim-Subscription-Key': subscription_key,\n",
    "      'Ocp-Apim-Subscription-Region': location,\n",
    "      'Content-type': 'application/json',\n",
    "      'X-ClientTraceId': str(uuid.uuid4())\n",
    "  }\n",
    "\n",
    "  request = requests.post(constructed_url, params = params, headers = headers, json = body)\n",
    "  response = request.json()\n",
    "\n",
    "  return response"
   ]
  },
  {
   "cell_type": "code",
   "execution_count": null,
   "metadata": {},
   "outputs": [],
   "source": [
    "r = \"<col_to_be_translated>\"\n",
    "rt = \"<translated_col>\""
   ]
  },
  {
   "cell_type": "code",
   "execution_count": null,
   "metadata": {},
   "outputs": [],
   "source": [
    "batch_size = 150\n",
    "i = 0\n",
    "while(i < len(data)):\n",
    "  lst = []\n",
    "  for j in range(i, i + batch_size):\n",
    "    if type(data.loc[j, r]) == np.float:\n",
    "      continue\n",
    "    d = {}\n",
    "    d['text'] = data.loc[j, r]\n",
    "    lst.append(d)\n",
    "\n",
    "  new_lst = get_translation(lst)\n",
    "  k = 0\n",
    "\n",
    "  for j in range(i, i + batch_size):\n",
    "    if type(data.loc[j, r]) == np.float:\n",
    "      continue\n",
    "    data.loc[j, rt] = new_lst[k]['translations'][0]['text']\n",
    "    k += 1\n",
    "\n",
    "    print(str(j) + ' => ' +  data.loc[j, rt])\n",
    "  \n",
    "  i += batch_size"
   ]
  },
  {
   "cell_type": "code",
   "execution_count": null,
   "metadata": {},
   "outputs": [],
   "source": [
    "data.to_csv('<save_file_path>', index = False)"
   ]
  }
 ],
 "metadata": {
  "kernelspec": {
   "display_name": "Python 3.9.13 64-bit (windows store)",
   "language": "python",
   "name": "python3"
  },
  "language_info": {
   "name": "python",
   "version": "3.9.13"
  },
  "orig_nbformat": 4,
  "vscode": {
   "interpreter": {
    "hash": "f74eec0e85527e47e49ba00d9fd4381b2c1d66bcd05bdbcab2a56c62f2dbbf66"
   }
  }
 },
 "nbformat": 4,
 "nbformat_minor": 2
}
